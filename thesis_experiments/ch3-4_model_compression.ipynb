{
 "cells": [
  {
   "cell_type": "markdown",
   "source": [
    "# Chapter 3.4 Model Compression"
   ],
   "metadata": {
    "collapsed": false,
    "pycharm": {
     "name": "#%% md\n"
    }
   }
  },
  {
   "cell_type": "code",
   "execution_count": 1,
   "outputs": [],
   "source": [
    "import tensorflow as tf"
   ],
   "metadata": {
    "collapsed": false,
    "pycharm": {
     "name": "#%%\n"
    }
   }
  },
  {
   "cell_type": "markdown",
   "source": [
    "Network structure"
   ],
   "metadata": {
    "collapsed": false,
    "pycharm": {
     "name": "#%% md\n"
    }
   }
  },
  {
   "cell_type": "code",
   "execution_count": 2,
   "metadata": {
    "collapsed": true,
    "pycharm": {
     "name": "#%%\n"
    }
   },
   "outputs": [],
   "source": [
    "from model import get_compiled_unet, get_compiled_lightweight_unet, get_compiled_binary_unet,get_uncompiled_binary_lightweight_unet"
   ]
  },
  {
   "cell_type": "code",
   "execution_count": 7,
   "outputs": [],
   "source": [
    "def convert_network_architecture_to_str(model):\n",
    "    layer_list = []\n",
    "    for layer in model.layers:\n",
    "        layer_name =  layer.name.lower()\n",
    "        if \"conv\" in layer_name:\n",
    "            if isinstance(layer.kernel_size, int):\n",
    "                kernel_size = layer.kernel_size\n",
    "            else:\n",
    "                kernel_size = layer.kernel_size[0]\n",
    "            output_channels = layer.filters\n",
    "            strides = layer.strides[0]\n",
    "\n",
    "            output_channels = \"{}\".format(output_channels)\n",
    "            if kernel_size==3 and strides==1:\n",
    "                kernel_size=\"\"\n",
    "                strides = \"\"\n",
    "            else:\n",
    "                kernel_size=\",\" + \"{}\".format(kernel_size)\n",
    "                strides = \",\" + \"{}\".format(strides)\n",
    "            # print(layer_name)\n",
    "            if \"binarylightweight\" in layer_name:\n",
    "                structure = \"$\\mathrm{BSConv_{\" + \"{}{}{}\".format(output_channels, kernel_size, strides) + \"}}$\"\n",
    "            elif \"binary\" in layer_name:\n",
    "                structure = \"$\\mathrm{BConv_{\" + \"{}{}{}\".format(output_channels, kernel_size, strides) + \"}}$\"\n",
    "            elif \"lightweight\" in layer_name:\n",
    "                structure = \"$\\mathrm{SConv_{\" + \"{}{}{}\".format(output_channels, kernel_size, strides) + \"}}$\"\n",
    "            else:\n",
    "                structure = \"$\\mathrm{Conv_{\" + \"{}{}{}\".format(output_channels, kernel_size, strides) + \"}}$\"\n",
    "            layer_list.append(structure)\n",
    "    return layer_list"
   ],
   "metadata": {
    "collapsed": false,
    "pycharm": {
     "name": "#%%\n"
    }
   }
  },
  {
   "cell_type": "markdown",
   "source": [
    "U-Net"
   ],
   "metadata": {
    "collapsed": false,
    "pycharm": {
     "name": "#%% md\n"
    }
   }
  },
  {
   "cell_type": "code",
   "execution_count": 4,
   "outputs": [],
   "source": [
    "unet = get_compiled_unet((256, 256, 1))\n",
    "lightweight_unet = get_compiled_lightweight_unet((256,256,1))\n",
    "binary_lightweight_unet = get_uncompiled_binary_lightweight_unet((256, 256,1), num_activation_residual_levels=3, num_conv_residual_levels=3, num_residual_levels_depthwise_filter=3, num_residual_levels_pointwise_filter=3)"
   ],
   "metadata": {
    "collapsed": false,
    "pycharm": {
     "name": "#%%\n"
    }
   }
  },
  {
   "cell_type": "code",
   "execution_count": 5,
   "outputs": [
    {
     "data": {
      "text/plain": "'Level1_Lightweight_Contracting_SeparableConv2D_1'"
     },
     "execution_count": 5,
     "metadata": {},
     "output_type": "execute_result"
    }
   ],
   "source": [
    "lightweight_unet.layers[4].name"
   ],
   "metadata": {
    "collapsed": false,
    "pycharm": {
     "name": "#%%\n"
    }
   }
  },
  {
   "cell_type": "code",
   "execution_count": 8,
   "outputs": [
    {
     "name": "stdout",
     "output_type": "stream",
     "text": [
      "$\\mathrm{Conv_{64}}$,$\\mathrm{Conv_{64}}$,$\\mathrm{Conv_{128}}$,$\\mathrm{Conv_{128}}$,$\\mathrm{Conv_{256}}$,$\\mathrm{Conv_{256}}$,$\\mathrm{Conv_{512}}$,$\\mathrm{Conv_{512}}$,$\\mathrm{Conv_{1024}}$,$\\mathrm{Conv_{1024}}$,$\\mathrm{Conv_{512,2,1}}$,$\\mathrm{Conv_{512}}$,$\\mathrm{Conv_{512}}$,$\\mathrm{Conv_{256,2,1}}$,$\\mathrm{Conv_{256}}$,$\\mathrm{Conv_{256}}$,$\\mathrm{Conv_{128,2,1}}$,$\\mathrm{Conv_{128}}$,$\\mathrm{Conv_{128}}$,$\\mathrm{Conv_{64,2,1}}$,$\\mathrm{Conv_{64}}$,$\\mathrm{Conv_{64}}$\n",
      "====================\n",
      "$\\mathrm{Conv_{64}}$,$\\mathrm{Conv_{64}}$,$\\mathrm{SConv_{128}}$,$\\mathrm{SConv_{128}}$,$\\mathrm{SConv_{256}}$,$\\mathrm{SConv_{256}}$,$\\mathrm{SConv_{512}}$,$\\mathrm{SConv_{512}}$,$\\mathrm{SConv_{1024}}$,$\\mathrm{SConv_{1024}}$,$\\mathrm{SConv_{512,2,1}}$,$\\mathrm{SConv_{512}}$,$\\mathrm{SConv_{512}}$,$\\mathrm{SConv_{256,2,1}}$,$\\mathrm{SConv_{256}}$,$\\mathrm{SConv_{256}}$,$\\mathrm{SConv_{128,2,1}}$,$\\mathrm{SConv_{128}}$,$\\mathrm{SConv_{128}}$,$\\mathrm{SConv_{64,2,1}}$,$\\mathrm{SConv_{64}}$,$\\mathrm{SConv_{64}}$\n",
      "====================\n",
      "$\\mathrm{BConv_{64}}$,$\\mathrm{BConv_{64}}$,$\\mathrm{BSConv_{128}}$,$\\mathrm{BSConv_{128}}$,$\\mathrm{BSConv_{256}}$,$\\mathrm{BSConv_{256}}$,$\\mathrm{BSConv_{512}}$,$\\mathrm{BSConv_{512}}$,$\\mathrm{BSConv_{1024}}$,$\\mathrm{BSConv_{1024}}$,$\\mathrm{BSConv_{512,2,1}}$,$\\mathrm{BSConv_{512}}$,$\\mathrm{BSConv_{512}}$,$\\mathrm{BSConv_{256,2,1}}$,$\\mathrm{BSConv_{256}}$,$\\mathrm{BSConv_{256}}$,$\\mathrm{BSConv_{128,2,1}}$,$\\mathrm{BSConv_{128}}$,$\\mathrm{BSConv_{128}}$,$\\mathrm{BSConv_{64,2,1}}$,$\\mathrm{BSConv_{64}}$,$\\mathrm{BSConv_{64}}$\n"
     ]
    }
   ],
   "source": [
    "layer_list = convert_network_architecture_to_str(unet)\n",
    "\n",
    "with open(\"./unet_structure.txt\", \"w+\") as f:\n",
    "    f.write(\",\".join(layer_list))\n",
    "print(\",\".join(layer_list))\n",
    "\n",
    "print(\"=\"*20)\n",
    "layer_list = convert_network_architecture_to_str(lightweight_unet)\n",
    "with open(\"./lightweight_unet_structure.txt\", \"w+\") as f:\n",
    "    f.write(\",\".join(layer_list))\n",
    "print(\",\".join(layer_list))\n",
    "\n",
    "print(\"=\"*20)\n",
    "layer_list = convert_network_architecture_to_str(binary_lightweight_unet)\n",
    "with open(\"./lightweight_unet_structure.txt\", \"w+\") as f:\n",
    "    f.write(\",\".join(layer_list))\n",
    "print(\",\".join(layer_list))"
   ],
   "metadata": {
    "collapsed": false,
    "pycharm": {
     "name": "#%%\n"
    }
   }
  },
  {
   "cell_type": "code",
   "execution_count": 6,
   "outputs": [],
   "source": [],
   "metadata": {
    "collapsed": false,
    "pycharm": {
     "name": "#%%\n"
    }
   }
  }
 ],
 "metadata": {
  "kernelspec": {
   "display_name": "Python 3",
   "language": "python",
   "name": "python3"
  },
  "language_info": {
   "codemirror_mode": {
    "name": "ipython",
    "version": 2
   },
   "file_extension": ".py",
   "mimetype": "text/x-python",
   "name": "python",
   "nbconvert_exporter": "python",
   "pygments_lexer": "ipython2",
   "version": "2.7.6"
  }
 },
 "nbformat": 4,
 "nbformat_minor": 0
}